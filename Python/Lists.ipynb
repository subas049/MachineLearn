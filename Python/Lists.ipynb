{
 "cells": [
  {
   "cell_type": "code",
   "execution_count": 1,
   "id": "22de9a53",
   "metadata": {},
   "outputs": [],
   "source": [
    "a = 'hello'\n",
    "b = 'world'"
   ]
  },
  {
   "cell_type": "code",
   "execution_count": 2,
   "id": "81b9679b",
   "metadata": {},
   "outputs": [
    {
     "data": {
      "text/plain": [
       "'helloworld'"
      ]
     },
     "execution_count": 2,
     "metadata": {},
     "output_type": "execute_result"
    }
   ],
   "source": [
    "a + b"
   ]
  },
  {
   "cell_type": "code",
   "execution_count": 3,
   "id": "3984528e",
   "metadata": {},
   "outputs": [
    {
     "data": {
      "text/plain": [
       "'hello world'"
      ]
     },
     "execution_count": 3,
     "metadata": {},
     "output_type": "execute_result"
    }
   ],
   "source": [
    "a + ' ' + b"
   ]
  },
  {
   "cell_type": "code",
   "execution_count": 4,
   "id": "70662085",
   "metadata": {},
   "outputs": [
    {
     "data": {
      "text/plain": [
       "5"
      ]
     },
     "execution_count": 4,
     "metadata": {},
     "output_type": "execute_result"
    }
   ],
   "source": [
    "a = 2\n",
    "b = 3\n",
    "a + b"
   ]
  },
  {
   "cell_type": "code",
   "execution_count": 5,
   "id": "90a47978",
   "metadata": {},
   "outputs": [],
   "source": [
    "a = 2"
   ]
  },
  {
   "cell_type": "code",
   "execution_count": 6,
   "id": "efe8abae",
   "metadata": {},
   "outputs": [],
   "source": [
    "a = 3"
   ]
  },
  {
   "cell_type": "code",
   "execution_count": 7,
   "id": "70d94a09",
   "metadata": {},
   "outputs": [],
   "source": [
    "# list\n",
    "a_list = [10, 20, 30, 40, 50]"
   ]
  },
  {
   "cell_type": "code",
   "execution_count": 8,
   "id": "233976dc",
   "metadata": {},
   "outputs": [
    {
     "name": "stdout",
     "output_type": "stream",
     "text": [
      "<class 'list'>\n"
     ]
    }
   ],
   "source": [
    "print(type(a_list))"
   ]
  },
  {
   "cell_type": "code",
   "execution_count": 10,
   "id": "8fb729bc",
   "metadata": {},
   "outputs": [
    {
     "data": {
      "text/plain": [
       "10"
      ]
     },
     "execution_count": 10,
     "metadata": {},
     "output_type": "execute_result"
    }
   ],
   "source": [
    "a_list[0]"
   ]
  },
  {
   "cell_type": "code",
   "execution_count": 11,
   "id": "feaa74cf",
   "metadata": {},
   "outputs": [
    {
     "data": {
      "text/plain": [
       "[10, 20, 30]"
      ]
     },
     "execution_count": 11,
     "metadata": {},
     "output_type": "execute_result"
    }
   ],
   "source": [
    "a_list[0:3]"
   ]
  },
  {
   "cell_type": "code",
   "execution_count": 12,
   "id": "c56528d0",
   "metadata": {},
   "outputs": [
    {
     "data": {
      "text/plain": [
       "[10, 30, 50]"
      ]
     },
     "execution_count": 12,
     "metadata": {},
     "output_type": "execute_result"
    }
   ],
   "source": [
    "a_list[::2]"
   ]
  },
  {
   "cell_type": "code",
   "execution_count": 13,
   "id": "2b2009ac",
   "metadata": {},
   "outputs": [
    {
     "name": "stdout",
     "output_type": "stream",
     "text": [
      "<class 'list'>\n"
     ]
    }
   ],
   "source": [
    "b_list = ['a', 'b', 'c', 'd', 'e']\n",
    "print(type(b_list))"
   ]
  },
  {
   "cell_type": "code",
   "execution_count": 15,
   "id": "33d3cba7",
   "metadata": {},
   "outputs": [
    {
     "data": {
      "text/plain": [
       "'e'"
      ]
     },
     "execution_count": 15,
     "metadata": {},
     "output_type": "execute_result"
    }
   ],
   "source": [
    "b_list[4]"
   ]
  },
  {
   "cell_type": "code",
   "execution_count": 16,
   "id": "6b8ed211",
   "metadata": {},
   "outputs": [
    {
     "name": "stdout",
     "output_type": "stream",
     "text": [
      "<class 'list'>\n"
     ]
    }
   ],
   "source": [
    "c_list = ['Rama', 'Data Scientist','Masters',30, 7.5, True]\n",
    "print(type(c_list))"
   ]
  },
  {
   "cell_type": "code",
   "execution_count": 21,
   "id": "d7d35092",
   "metadata": {},
   "outputs": [
    {
     "data": {
      "text/plain": [
       "'Data'"
      ]
     },
     "execution_count": 21,
     "metadata": {},
     "output_type": "execute_result"
    }
   ],
   "source": [
    "c_list[1][:4]"
   ]
  },
  {
   "cell_type": "code",
   "execution_count": 22,
   "id": "a4f03b6d",
   "metadata": {},
   "outputs": [],
   "source": [
    "d_list = [[10,20,30], [40,50,60],['a', 'b'], True] # Nested lists"
   ]
  },
  {
   "cell_type": "code",
   "execution_count": 23,
   "id": "0ab3f84f",
   "metadata": {},
   "outputs": [
    {
     "data": {
      "text/plain": [
       "[[10, 20, 30], [40, 50, 60], ['a', 'b'], True]"
      ]
     },
     "execution_count": 23,
     "metadata": {},
     "output_type": "execute_result"
    }
   ],
   "source": [
    "d_list"
   ]
  },
  {
   "cell_type": "code",
   "execution_count": 24,
   "id": "4a660e38",
   "metadata": {},
   "outputs": [
    {
     "data": {
      "text/plain": [
       "4"
      ]
     },
     "execution_count": 24,
     "metadata": {},
     "output_type": "execute_result"
    }
   ],
   "source": [
    "len(d_list)"
   ]
  },
  {
   "cell_type": "code",
   "execution_count": 33,
   "id": "2b577305",
   "metadata": {},
   "outputs": [
    {
     "data": {
      "text/plain": [
       "'b'"
      ]
     },
     "execution_count": 33,
     "metadata": {},
     "output_type": "execute_result"
    }
   ],
   "source": [
    "d_list[2][1]"
   ]
  },
  {
   "cell_type": "code",
   "execution_count": 27,
   "id": "e8f73394",
   "metadata": {},
   "outputs": [
    {
     "data": {
      "text/plain": [
       "1"
      ]
     },
     "execution_count": 27,
     "metadata": {},
     "output_type": "execute_result"
    }
   ],
   "source": [
    "e_list = [[121,123, [122, 125,126]]]\n",
    "len(e_list)"
   ]
  },
  {
   "cell_type": "code",
   "execution_count": 30,
   "id": "09e806cb",
   "metadata": {},
   "outputs": [
    {
     "data": {
      "text/plain": [
       "125"
      ]
     },
     "execution_count": 30,
     "metadata": {},
     "output_type": "execute_result"
    }
   ],
   "source": [
    "e_list[0][2][1]"
   ]
  },
  {
   "cell_type": "code",
   "execution_count": 35,
   "id": "c1a1dd48",
   "metadata": {},
   "outputs": [],
   "source": [
    "# list Methods "
   ]
  },
  {
   "cell_type": "code",
   "execution_count": 36,
   "id": "acd22587",
   "metadata": {},
   "outputs": [],
   "source": [
    "a = [1,2,3,4,5]\n",
    "b = [6,7,8,9,10]\n",
    "\n",
    "# c = [7,9,11,13,15]"
   ]
  },
  {
   "cell_type": "code",
   "execution_count": 37,
   "id": "1139108d",
   "metadata": {},
   "outputs": [
    {
     "data": {
      "text/plain": [
       "[1, 2, 3, 4, 5, 6, 7, 8, 9, 10]"
      ]
     },
     "execution_count": 37,
     "metadata": {},
     "output_type": "execute_result"
    }
   ],
   "source": [
    "a + b --> Appending two lists"
   ]
  },
  {
   "cell_type": "code",
   "execution_count": 48,
   "id": "20c329b9",
   "metadata": {
    "scrolled": true
   },
   "outputs": [
    {
     "data": {
      "text/plain": [
       "[1, 2, 3, 4, 5, 6, 7, 8, 9, 10]"
      ]
     },
     "execution_count": 48,
     "metadata": {},
     "output_type": "execute_result"
    }
   ],
   "source": [
    "c = a+b\n",
    "c"
   ]
  },
  {
   "cell_type": "markdown",
   "id": "8509debc",
   "metadata": {},
   "source": [
    "# append -- append the values to end of the list."
   ]
  },
  {
   "cell_type": "code",
   "execution_count": 50,
   "id": "fb0a9498",
   "metadata": {},
   "outputs": [
    {
     "data": {
      "text/plain": [
       "[1, 2, 3, 4, 5, 6, 7, 8, 9, 10, 11, 'Rama', 11, 'Rama']"
      ]
     },
     "execution_count": 50,
     "metadata": {},
     "output_type": "execute_result"
    }
   ],
   "source": [
    "c.append(11)\n",
    "c.append('Rama')\n",
    "c"
   ]
  },
  {
   "cell_type": "code",
   "execution_count": 54,
   "id": "c81e703b",
   "metadata": {},
   "outputs": [
    {
     "data": {
      "text/plain": [
       "[1, 2, 3, 4, 5, 6, 7, 8, 9, 10, 11, 'Rama', 11, 'Rama', [8, 9, 10]]"
      ]
     },
     "execution_count": 54,
     "metadata": {},
     "output_type": "execute_result"
    }
   ],
   "source": [
    "c.append([8, 9, 10])\n",
    "c"
   ]
  },
  {
   "cell_type": "code",
   "execution_count": 55,
   "id": "6c6cd0a1",
   "metadata": {},
   "outputs": [
    {
     "data": {
      "text/plain": [
       "[1, 2, 3, 4, 5, 6, 7, 8, 9, 10, 11, 'Rama', 11, 'Rama', [8, 9, 10], 8, 9, 10]"
      ]
     },
     "execution_count": 55,
     "metadata": {},
     "output_type": "execute_result"
    }
   ],
   "source": [
    "c + [8,9,10]"
   ]
  },
  {
   "cell_type": "markdown",
   "id": "99c9d8ec",
   "metadata": {},
   "source": [
    "# count = returns number of occurences of a value"
   ]
  },
  {
   "cell_type": "code",
   "execution_count": 52,
   "id": "55026d18",
   "metadata": {},
   "outputs": [
    {
     "data": {
      "text/plain": [
       "2"
      ]
     },
     "execution_count": 52,
     "metadata": {},
     "output_type": "execute_result"
    }
   ],
   "source": [
    "c.count('Rama')"
   ]
  },
  {
   "cell_type": "markdown",
   "id": "5774b134",
   "metadata": {},
   "source": [
    "# Extend = extends list by appending the values\n"
   ]
  },
  {
   "cell_type": "code",
   "execution_count": 57,
   "id": "cf314d1b",
   "metadata": {
    "scrolled": false
   },
   "outputs": [
    {
     "data": {
      "text/plain": [
       "[1,\n",
       " 2,\n",
       " 3,\n",
       " 4,\n",
       " 5,\n",
       " 6,\n",
       " 7,\n",
       " 8,\n",
       " 9,\n",
       " 10,\n",
       " 11,\n",
       " 'Rama',\n",
       " 11,\n",
       " 'Rama',\n",
       " [8, 9, 10],\n",
       " 8,\n",
       " 9,\n",
       " 10,\n",
       " 11]"
      ]
     },
     "execution_count": 57,
     "metadata": {},
     "output_type": "execute_result"
    }
   ],
   "source": [
    "c.extend([8,9,10,11])\n",
    "c"
   ]
  },
  {
   "cell_type": "markdown",
   "id": "d0184e9b",
   "metadata": {},
   "source": [
    "# Index -- returns first index of a value"
   ]
  },
  {
   "cell_type": "code",
   "execution_count": 59,
   "id": "f27e5a90",
   "metadata": {},
   "outputs": [
    {
     "data": {
      "text/plain": [
       "[1,\n",
       " 2,\n",
       " 3,\n",
       " 4,\n",
       " 5,\n",
       " 6,\n",
       " 7,\n",
       " 8,\n",
       " 9,\n",
       " 10,\n",
       " 11,\n",
       " 'Rama',\n",
       " 11,\n",
       " 'Rama',\n",
       " [8, 9, 10],\n",
       " 8,\n",
       " 9,\n",
       " 10,\n",
       " 11]"
      ]
     },
     "execution_count": 59,
     "metadata": {},
     "output_type": "execute_result"
    }
   ],
   "source": [
    "c"
   ]
  },
  {
   "cell_type": "code",
   "execution_count": 60,
   "id": "1326b709",
   "metadata": {},
   "outputs": [
    {
     "data": {
      "text/plain": [
       "3"
      ]
     },
     "execution_count": 60,
     "metadata": {},
     "output_type": "execute_result"
    }
   ],
   "source": [
    "c.count(11)"
   ]
  },
  {
   "cell_type": "code",
   "execution_count": 65,
   "id": "7fab8868",
   "metadata": {
    "scrolled": true
   },
   "outputs": [
    {
     "ename": "ValueError",
     "evalue": "11 is not in list",
     "output_type": "error",
     "traceback": [
      "\u001b[1;31m---------------------------------------------------------------------------\u001b[0m",
      "\u001b[1;31mValueError\u001b[0m                                Traceback (most recent call last)",
      "\u001b[1;32m~\\AppData\\Local\\Temp\\ipykernel_12148\\2365112736.py\u001b[0m in \u001b[0;36m<module>\u001b[1;34m\u001b[0m\n\u001b[1;32m----> 1\u001b[1;33m \u001b[0mc\u001b[0m\u001b[1;33m.\u001b[0m\u001b[0mindex\u001b[0m\u001b[1;33m(\u001b[0m\u001b[1;36m11\u001b[0m\u001b[1;33m,\u001b[0m \u001b[1;36m14\u001b[0m\u001b[1;33m,\u001b[0m \u001b[1;36m17\u001b[0m\u001b[1;33m)\u001b[0m\u001b[1;33m\u001b[0m\u001b[1;33m\u001b[0m\u001b[0m\n\u001b[0m\u001b[0;32m      2\u001b[0m \u001b[1;31m# index(value, start, stop)\u001b[0m\u001b[1;33m\u001b[0m\u001b[1;33m\u001b[0m\u001b[0m\n",
      "\u001b[1;31mValueError\u001b[0m: 11 is not in list"
     ]
    }
   ],
   "source": [
    "c.index(11, 14, 17)\n",
    "# index(value, start, stop)"
   ]
  },
  {
   "cell_type": "markdown",
   "id": "8b04064c",
   "metadata": {},
   "source": [
    "# Insert -- Insert value before index"
   ]
  },
  {
   "cell_type": "code",
   "execution_count": 69,
   "id": "1e2d81db",
   "metadata": {},
   "outputs": [
    {
     "data": {
      "text/plain": [
       "[1, 2, 3, 4, 5, 2]"
      ]
     },
     "execution_count": 69,
     "metadata": {},
     "output_type": "execute_result"
    }
   ],
   "source": [
    "a"
   ]
  },
  {
   "cell_type": "code",
   "execution_count": 70,
   "id": "d9fd05df",
   "metadata": {},
   "outputs": [],
   "source": [
    "a.insert(2, 10)\n",
    "# insert(index, value)"
   ]
  },
  {
   "cell_type": "code",
   "execution_count": 98,
   "id": "d1634128",
   "metadata": {},
   "outputs": [
    {
     "data": {
      "text/plain": [
       "[12, 'de', 'bd', 'bc', 'b', 'a']"
      ]
     },
     "execution_count": 98,
     "metadata": {},
     "output_type": "execute_result"
    }
   ],
   "source": [
    "a"
   ]
  },
  {
   "cell_type": "code",
   "execution_count": 100,
   "id": "578b1c54",
   "metadata": {},
   "outputs": [],
   "source": [
    "a.insert(0, 10)"
   ]
  },
  {
   "cell_type": "code",
   "execution_count": 101,
   "id": "373c9c86",
   "metadata": {
    "scrolled": true
   },
   "outputs": [
    {
     "data": {
      "text/plain": [
       "[10, 12, 'de', 'bd', 'bc', 'b', 'a']"
      ]
     },
     "execution_count": 101,
     "metadata": {},
     "output_type": "execute_result"
    }
   ],
   "source": [
    "a"
   ]
  },
  {
   "cell_type": "markdown",
   "id": "7feed2f9",
   "metadata": {},
   "source": [
    "# Pop == Removes the last value in a list by default, otherwise by index"
   ]
  },
  {
   "cell_type": "code",
   "execution_count": 72,
   "id": "a4e3e109",
   "metadata": {},
   "outputs": [
    {
     "data": {
      "text/plain": [
       "2"
      ]
     },
     "execution_count": 72,
     "metadata": {},
     "output_type": "execute_result"
    }
   ],
   "source": [
    "a.pop()"
   ]
  },
  {
   "cell_type": "code",
   "execution_count": 73,
   "id": "d3d57c41",
   "metadata": {},
   "outputs": [
    {
     "data": {
      "text/plain": [
       "[1, 2, 10, 3, 4, 5]"
      ]
     },
     "execution_count": 73,
     "metadata": {},
     "output_type": "execute_result"
    }
   ],
   "source": [
    "a"
   ]
  },
  {
   "cell_type": "code",
   "execution_count": 74,
   "id": "be47064d",
   "metadata": {},
   "outputs": [
    {
     "data": {
      "text/plain": [
       "10"
      ]
     },
     "execution_count": 74,
     "metadata": {},
     "output_type": "execute_result"
    }
   ],
   "source": [
    "a.pop(2)"
   ]
  },
  {
   "cell_type": "code",
   "execution_count": 75,
   "id": "83dc6a80",
   "metadata": {},
   "outputs": [
    {
     "data": {
      "text/plain": [
       "[1, 2, 3, 4, 5]"
      ]
     },
     "execution_count": 75,
     "metadata": {},
     "output_type": "execute_result"
    }
   ],
   "source": [
    "a"
   ]
  },
  {
   "cell_type": "code",
   "execution_count": 76,
   "id": "b65618b1",
   "metadata": {},
   "outputs": [],
   "source": [
    "c = [10,20,30,40,50,60]"
   ]
  },
  {
   "cell_type": "markdown",
   "id": "18ddae59",
   "metadata": {},
   "source": [
    "# Remove - Remove first occurence of a value"
   ]
  },
  {
   "cell_type": "code",
   "execution_count": 78,
   "id": "82d847ac",
   "metadata": {},
   "outputs": [
    {
     "data": {
      "text/plain": [
       "[10, 20, 40, 50, 60]"
      ]
     },
     "execution_count": 78,
     "metadata": {},
     "output_type": "execute_result"
    }
   ],
   "source": [
    "c.remove(30)\n",
    "c"
   ]
  },
  {
   "cell_type": "code",
   "execution_count": 79,
   "id": "1ad4295c",
   "metadata": {},
   "outputs": [],
   "source": [
    "d = [30,50, 20, 10, 60, 70, 55]"
   ]
  },
  {
   "cell_type": "markdown",
   "id": "73bf4122",
   "metadata": {},
   "source": [
    "# Sort -- Sorting of the values by default ascending"
   ]
  },
  {
   "cell_type": "code",
   "execution_count": 82,
   "id": "65268ab1",
   "metadata": {},
   "outputs": [
    {
     "data": {
      "text/plain": [
       "[10, 20, 30, 50, 55, 60, 70]"
      ]
     },
     "execution_count": 82,
     "metadata": {},
     "output_type": "execute_result"
    }
   ],
   "source": [
    "d.sort()\n",
    "d"
   ]
  },
  {
   "cell_type": "code",
   "execution_count": 83,
   "id": "275ee656",
   "metadata": {},
   "outputs": [
    {
     "data": {
      "text/plain": [
       "[70, 60, 55, 50, 30, 20, 10]"
      ]
     },
     "execution_count": 83,
     "metadata": {},
     "output_type": "execute_result"
    }
   ],
   "source": [
    "d.sort(reverse = True)\n",
    "d"
   ]
  },
  {
   "cell_type": "code",
   "execution_count": 84,
   "id": "c3f5106d",
   "metadata": {},
   "outputs": [],
   "source": [
    "e = [40,45,12,32, 65,23, 22]"
   ]
  },
  {
   "cell_type": "code",
   "execution_count": 85,
   "id": "c6634200",
   "metadata": {},
   "outputs": [
    {
     "data": {
      "text/plain": [
       "[65, 45, 40, 32, 23, 22, 12]"
      ]
     },
     "execution_count": 85,
     "metadata": {},
     "output_type": "execute_result"
    }
   ],
   "source": [
    "e.sort(reverse= True)\n",
    "e"
   ]
  },
  {
   "cell_type": "code",
   "execution_count": 94,
   "id": "9cdf5ebe",
   "metadata": {},
   "outputs": [],
   "source": [
    "a = ['a', 'bc','bd','de', 'f','b']"
   ]
  },
  {
   "cell_type": "code",
   "execution_count": 95,
   "id": "1e890587",
   "metadata": {},
   "outputs": [
    {
     "data": {
      "text/plain": [
       "['f', 'de', 'bd', 'bc', 'b', 'a']"
      ]
     },
     "execution_count": 95,
     "metadata": {},
     "output_type": "execute_result"
    }
   ],
   "source": [
    "a.sort(reverse = True)\n",
    "a"
   ]
  },
  {
   "cell_type": "code",
   "execution_count": 96,
   "id": "94934654",
   "metadata": {},
   "outputs": [
    {
     "data": {
      "text/plain": [
       "['f', 'de', 'bd', 'bc', 'b', 'a']"
      ]
     },
     "execution_count": 96,
     "metadata": {},
     "output_type": "execute_result"
    }
   ],
   "source": [
    "a"
   ]
  },
  {
   "cell_type": "code",
   "execution_count": 97,
   "id": "27591660",
   "metadata": {},
   "outputs": [
    {
     "data": {
      "text/plain": [
       "[12, 'de', 'bd', 'bc', 'b', 'a']"
      ]
     },
     "execution_count": 97,
     "metadata": {},
     "output_type": "execute_result"
    }
   ],
   "source": [
    "a[0] = 12\n",
    "a"
   ]
  },
  {
   "cell_type": "code",
   "execution_count": null,
   "id": "4cc659bc",
   "metadata": {},
   "outputs": [],
   "source": []
  }
 ],
 "metadata": {
  "kernelspec": {
   "display_name": "Python 3 (ipykernel)",
   "language": "python",
   "name": "python3"
  },
  "language_info": {
   "codemirror_mode": {
    "name": "ipython",
    "version": 3
   },
   "file_extension": ".py",
   "mimetype": "text/x-python",
   "name": "python",
   "nbconvert_exporter": "python",
   "pygments_lexer": "ipython3",
   "version": "3.9.13"
  }
 },
 "nbformat": 4,
 "nbformat_minor": 5
}
