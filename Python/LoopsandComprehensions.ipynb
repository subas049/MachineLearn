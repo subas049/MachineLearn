{
 "cells": [
  {
   "cell_type": "code",
   "execution_count": 1,
   "id": "f6816b79",
   "metadata": {},
   "outputs": [
    {
     "name": "stdout",
     "output_type": "stream",
     "text": [
      "x value iis two \n"
     ]
    }
   ],
   "source": [
    "x = 2\n",
    "if x == 2:\n",
    "    print('x value iis two ')"
   ]
  },
  {
   "cell_type": "code",
   "execution_count": 2,
   "id": "3578fc76",
   "metadata": {},
   "outputs": [],
   "source": [
    "# loops"
   ]
  },
  {
   "cell_type": "code",
   "execution_count": 10,
   "id": "194df42c",
   "metadata": {},
   "outputs": [
    {
     "data": {
      "text/plain": [
       "[90, 94, 98, 102, 106]"
      ]
     },
     "execution_count": 10,
     "metadata": {},
     "output_type": "execute_result"
    }
   ],
   "source": [
    "list(range(90,110, 4))"
   ]
  },
  {
   "cell_type": "code",
   "execution_count": null,
   "id": "6d13b0d1",
   "metadata": {},
   "outputs": [],
   "source": [
    "a = [90, 94, 98, 102, 106] --> input\n",
    "b = [93, 97, 101, 105, 109] --> output"
   ]
  },
  {
   "cell_type": "code",
   "execution_count": 12,
   "id": "7e1c74a3",
   "metadata": {},
   "outputs": [],
   "source": [
    "a = [90, 94, 98, 102, 106]"
   ]
  },
  {
   "cell_type": "code",
   "execution_count": 19,
   "id": "6b477486",
   "metadata": {
    "scrolled": true
   },
   "outputs": [
    {
     "name": "stdout",
     "output_type": "stream",
     "text": [
      "abc\n",
      "abc\n",
      "abc\n",
      "abc\n",
      "abc\n",
      "abc\n",
      "abc\n",
      "abc\n",
      "abc\n",
      "abc\n"
     ]
    }
   ],
   "source": [
    "for i in a:\n",
    "#     print(i+7)\n",
    "    print('abc')\n",
    "    print('abc')"
   ]
  },
  {
   "cell_type": "code",
   "execution_count": 27,
   "id": "313b4128",
   "metadata": {
    "scrolled": true
   },
   "outputs": [
    {
     "name": "stdout",
     "output_type": "stream",
     "text": [
      "0 1 2 3 4 5 6 7 8 9 10 11 12 13 14 15 16 17 18 19 20 21 22 23 24 25 26 27 28 29 30 31 32 33 34 35 36 37 38 39 40 41 42 43 44 45 46 47 48 49 50 51 52 53 54 55 56 57 58 59 60 61 62 63 64 65 66 67 68 69 70 71 72 73 74 75 76 77 78 79 80 81 82 83 84 85 86 87 88 89 90 91 92 93 94 95 96 97 98 99 "
     ]
    }
   ],
   "source": [
    "for i in range(100):\n",
    "    print(i, end = ' ')"
   ]
  },
  {
   "cell_type": "code",
   "execution_count": 28,
   "id": "3350c4dc",
   "metadata": {},
   "outputs": [
    {
     "data": {
      "text/plain": [
       "50.0"
      ]
     },
     "execution_count": 28,
     "metadata": {},
     "output_type": "execute_result"
    }
   ],
   "source": [
    "100/2"
   ]
  },
  {
   "cell_type": "code",
   "execution_count": 30,
   "id": "d3c141f8",
   "metadata": {},
   "outputs": [
    {
     "data": {
      "text/plain": [
       "50"
      ]
     },
     "execution_count": 30,
     "metadata": {},
     "output_type": "execute_result"
    }
   ],
   "source": [
    "100//2"
   ]
  },
  {
   "cell_type": "code",
   "execution_count": 31,
   "id": "00d6c9ce",
   "metadata": {},
   "outputs": [
    {
     "data": {
      "text/plain": [
       "1"
      ]
     },
     "execution_count": 31,
     "metadata": {},
     "output_type": "execute_result"
    }
   ],
   "source": [
    "99%2"
   ]
  },
  {
   "cell_type": "code",
   "execution_count": 35,
   "id": "eb1127b3",
   "metadata": {},
   "outputs": [
    {
     "name": "stdout",
     "output_type": "stream",
     "text": [
      "0 4 8 12 16 20 24 28 32 36 40 44 48 52 56 60 64 68 72 76 80 84 88 92 96 "
     ]
    }
   ],
   "source": [
    "for i in range(100):\n",
    "    if i%4 == 0:\n",
    "        print(i, end = ' ')"
   ]
  },
  {
   "cell_type": "code",
   "execution_count": 38,
   "id": "b4942405",
   "metadata": {},
   "outputs": [],
   "source": [
    "a_list = []"
   ]
  },
  {
   "cell_type": "code",
   "execution_count": 39,
   "id": "4cf77295",
   "metadata": {},
   "outputs": [
    {
     "data": {
      "text/plain": [
       "[20, 30]"
      ]
     },
     "execution_count": 39,
     "metadata": {},
     "output_type": "execute_result"
    }
   ],
   "source": [
    "a_list.append(20)\n",
    "a_list.append(30)\n",
    "a_list"
   ]
  },
  {
   "cell_type": "code",
   "execution_count": 41,
   "id": "7494258d",
   "metadata": {
    "collapsed": true
   },
   "outputs": [
    {
     "data": {
      "text/plain": [
       "[0,\n",
       " 2,\n",
       " 4,\n",
       " 6,\n",
       " 8,\n",
       " 10,\n",
       " 12,\n",
       " 14,\n",
       " 16,\n",
       " 18,\n",
       " 20,\n",
       " 22,\n",
       " 24,\n",
       " 26,\n",
       " 28,\n",
       " 30,\n",
       " 32,\n",
       " 34,\n",
       " 36,\n",
       " 38,\n",
       " 40,\n",
       " 42,\n",
       " 44,\n",
       " 46,\n",
       " 48,\n",
       " 50,\n",
       " 52,\n",
       " 54,\n",
       " 56,\n",
       " 58,\n",
       " 60,\n",
       " 62,\n",
       " 64,\n",
       " 66,\n",
       " 68,\n",
       " 70,\n",
       " 72,\n",
       " 74,\n",
       " 76,\n",
       " 78,\n",
       " 80,\n",
       " 82,\n",
       " 84,\n",
       " 86,\n",
       " 88,\n",
       " 90,\n",
       " 92,\n",
       " 94,\n",
       " 96,\n",
       " 98]"
      ]
     },
     "execution_count": 41,
     "metadata": {},
     "output_type": "execute_result"
    }
   ],
   "source": [
    "a_even = []\n",
    "for i in range(100):\n",
    "    if i%2 == 0:\n",
    "        a_even.append(i)\n",
    "a_even"
   ]
  },
  {
   "cell_type": "code",
   "execution_count": 42,
   "id": "451e92bd",
   "metadata": {},
   "outputs": [
    {
     "data": {
      "text/plain": [
       "50"
      ]
     },
     "execution_count": 42,
     "metadata": {},
     "output_type": "execute_result"
    }
   ],
   "source": [
    "len(a_even)"
   ]
  },
  {
   "cell_type": "code",
   "execution_count": 47,
   "id": "e9a67f93",
   "metadata": {},
   "outputs": [],
   "source": [
    "b_even = {}\n",
    "for i in range(100):\n",
    "    if i%2 == 0:\n",
    "        b_even[i] = i**3\n"
   ]
  },
  {
   "cell_type": "code",
   "execution_count": 48,
   "id": "b649d77a",
   "metadata": {
    "collapsed": true
   },
   "outputs": [
    {
     "data": {
      "text/plain": [
       "{0: 0,\n",
       " 2: 8,\n",
       " 4: 64,\n",
       " 6: 216,\n",
       " 8: 512,\n",
       " 10: 1000,\n",
       " 12: 1728,\n",
       " 14: 2744,\n",
       " 16: 4096,\n",
       " 18: 5832,\n",
       " 20: 8000,\n",
       " 22: 10648,\n",
       " 24: 13824,\n",
       " 26: 17576,\n",
       " 28: 21952,\n",
       " 30: 27000,\n",
       " 32: 32768,\n",
       " 34: 39304,\n",
       " 36: 46656,\n",
       " 38: 54872,\n",
       " 40: 64000,\n",
       " 42: 74088,\n",
       " 44: 85184,\n",
       " 46: 97336,\n",
       " 48: 110592,\n",
       " 50: 125000,\n",
       " 52: 140608,\n",
       " 54: 157464,\n",
       " 56: 175616,\n",
       " 58: 195112,\n",
       " 60: 216000,\n",
       " 62: 238328,\n",
       " 64: 262144,\n",
       " 66: 287496,\n",
       " 68: 314432,\n",
       " 70: 343000,\n",
       " 72: 373248,\n",
       " 74: 405224,\n",
       " 76: 438976,\n",
       " 78: 474552,\n",
       " 80: 512000,\n",
       " 82: 551368,\n",
       " 84: 592704,\n",
       " 86: 636056,\n",
       " 88: 681472,\n",
       " 90: 729000,\n",
       " 92: 778688,\n",
       " 94: 830584,\n",
       " 96: 884736,\n",
       " 98: 941192}"
      ]
     },
     "execution_count": 48,
     "metadata": {},
     "output_type": "execute_result"
    }
   ],
   "source": [
    "b_even"
   ]
  },
  {
   "cell_type": "code",
   "execution_count": 50,
   "id": "80d0f385",
   "metadata": {},
   "outputs": [
    {
     "name": "stdout",
     "output_type": "stream",
     "text": [
      "D A T A   S C i e n c e "
     ]
    }
   ],
   "source": [
    "for i in \"DATA SCience\":\n",
    "    print(i, end = ' ')"
   ]
  },
  {
   "cell_type": "code",
   "execution_count": 59,
   "id": "2f905f40",
   "metadata": {
    "scrolled": false
   },
   "outputs": [],
   "source": [
    "a = '2121232432421121356577687645233412'\n",
    "a_even = []\n",
    "a_odd  = []\n",
    "for i in a:\n",
    "    if int(i)%2 == 0:\n",
    "        a_even.append(int(i))\n",
    "    else:\n",
    "        a_odd.append(int(i))\n",
    "        "
   ]
  },
  {
   "cell_type": "code",
   "execution_count": 62,
   "id": "e4f27245",
   "metadata": {},
   "outputs": [
    {
     "data": {
      "text/plain": [
       "'abc def'"
      ]
     },
     "execution_count": 62,
     "metadata": {},
     "output_type": "execute_result"
    }
   ],
   "source": [
    "'abc' + ' ' + 'def'"
   ]
  },
  {
   "cell_type": "code",
   "execution_count": 63,
   "id": "12c9e92c",
   "metadata": {},
   "outputs": [],
   "source": [
    "a = '2121232432421121356577687645233412'\n",
    "a_even = ''\n",
    "a_odd  = ''\n",
    "for i in a:\n",
    "    if int(i)%2 == 0:\n",
    "        a_even = a_even + i\n",
    "    else:\n",
    "        a_odd = a_odd + i\n",
    "        "
   ]
  },
  {
   "cell_type": "code",
   "execution_count": 64,
   "id": "3b89bf62",
   "metadata": {
    "scrolled": false
   },
   "outputs": [
    {
     "name": "stdout",
     "output_type": "stream",
     "text": [
      "22224242266864242\n",
      "11331113557775331\n"
     ]
    }
   ],
   "source": [
    "print(a_even)\n",
    "print(a_odd)"
   ]
  },
  {
   "cell_type": "code",
   "execution_count": 53,
   "id": "5ade5b8b",
   "metadata": {},
   "outputs": [
    {
     "data": {
      "text/plain": [
       "1.0"
      ]
     },
     "execution_count": 53,
     "metadata": {},
     "output_type": "execute_result"
    }
   ],
   "source": [
    "int('2')/2"
   ]
  },
  {
   "cell_type": "code",
   "execution_count": 72,
   "id": "a07d3a90",
   "metadata": {},
   "outputs": [],
   "source": [
    "a = '#Hello #GoodMorning How are you ? #twitter #SocialMedia'"
   ]
  },
  {
   "cell_type": "code",
   "execution_count": 76,
   "id": "152d6b17",
   "metadata": {},
   "outputs": [
    {
     "data": {
      "text/plain": [
       "['#Hello',\n",
       " '#GoodMorning',\n",
       " 'How',\n",
       " 'are',\n",
       " 'you',\n",
       " '?',\n",
       " '#twitter',\n",
       " '#SocialMedia']"
      ]
     },
     "execution_count": 76,
     "metadata": {},
     "output_type": "execute_result"
    }
   ],
   "source": [
    "a.split(' ')"
   ]
  },
  {
   "cell_type": "code",
   "execution_count": null,
   "id": "11587c39",
   "metadata": {},
   "outputs": [],
   "source": [
    "# Covert string to a list \n",
    "Use a split method"
   ]
  },
  {
   "cell_type": "code",
   "execution_count": 73,
   "id": "7d580b61",
   "metadata": {
    "scrolled": false
   },
   "outputs": [
    {
     "data": {
      "text/plain": [
       "['#Hello',\n",
       " '#GoodMorning',\n",
       " 'How',\n",
       " 'are',\n",
       " 'you',\n",
       " '?',\n",
       " '#twitter',\n",
       " '#SocialMedia']"
      ]
     },
     "execution_count": 73,
     "metadata": {},
     "output_type": "execute_result"
    }
   ],
   "source": [
    "a.split(' ')"
   ]
  },
  {
   "cell_type": "code",
   "execution_count": 74,
   "id": "e9d125b8",
   "metadata": {},
   "outputs": [],
   "source": [
    "a_hash_word = []\n",
    "\n",
    "for i in a.split():\n",
    "    if i.startswith('#'):\n",
    "        a_hash_word.append(i.lstrip('#'))\n",
    "#     print(i)"
   ]
  },
  {
   "cell_type": "code",
   "execution_count": 75,
   "id": "d9374047",
   "metadata": {},
   "outputs": [
    {
     "data": {
      "text/plain": [
       "['Hello', 'GoodMorning', 'twitter', 'SocialMedia']"
      ]
     },
     "execution_count": 75,
     "metadata": {},
     "output_type": "execute_result"
    }
   ],
   "source": [
    "a_hash_word"
   ]
  },
  {
   "cell_type": "code",
   "execution_count": 77,
   "id": "58764685",
   "metadata": {},
   "outputs": [],
   "source": [
    "b_sentences = ['Hello Hi ', 'Hey Dude', 'Good Morning friends', 'Hello boys']"
   ]
  },
  {
   "cell_type": "code",
   "execution_count": 81,
   "id": "02208b66",
   "metadata": {},
   "outputs": [
    {
     "data": {
      "text/plain": [
       "'Hello Hi  Hey Dude Good Morning friends Hello boys'"
      ]
     },
     "execution_count": 81,
     "metadata": {},
     "output_type": "execute_result"
    }
   ],
   "source": [
    "' '.join(b_sentences)"
   ]
  },
  {
   "cell_type": "code",
   "execution_count": 88,
   "id": "6e221d70",
   "metadata": {},
   "outputs": [],
   "source": [
    "c_senteces = \"\"\" HEy how are you ?, What are you doing?, I am trying to learn Data science, I found the trainer is good, \n",
    "I feel to learn even data engineering? \"\"\""
   ]
  },
  {
   "cell_type": "code",
   "execution_count": 89,
   "id": "4451d06c",
   "metadata": {},
   "outputs": [
    {
     "data": {
      "text/plain": [
       "[' HEy how are you ?',\n",
       " ' What are you doing?',\n",
       " ' I am trying to learn Data science',\n",
       " ' I found the trainer is good',\n",
       " ' \\nI feel to learn even data engineering? ']"
      ]
     },
     "execution_count": 89,
     "metadata": {},
     "output_type": "execute_result"
    }
   ],
   "source": [
    "(c_senteces.split(','))"
   ]
  },
  {
   "cell_type": "code",
   "execution_count": 90,
   "id": "0f299839",
   "metadata": {},
   "outputs": [
    {
     "data": {
      "text/plain": [
       "True"
      ]
     },
     "execution_count": 90,
     "metadata": {},
     "output_type": "execute_result"
    }
   ],
   "source": [
    "'data' in 'data science is a good field, I am expecting 100% hike'"
   ]
  },
  {
   "cell_type": "code",
   "execution_count": 97,
   "id": "b645d68d",
   "metadata": {
    "scrolled": true
   },
   "outputs": [
    {
     "name": "stdout",
     "output_type": "stream",
     "text": [
      " I am trying to learn Data science\n",
      " \n",
      "I feel to learn even data engineering? \n"
     ]
    }
   ],
   "source": [
    "for i in c_senteces.split(','):\n",
    "    if 'data'.lower() in i.lower():\n",
    "        print(i)"
   ]
  },
  {
   "cell_type": "code",
   "execution_count": 99,
   "id": "fa0ce4c9",
   "metadata": {},
   "outputs": [
    {
     "data": {
      "text/plain": [
       "{'Name': ['a', 'b', 'c'], 'Age': [20, 30, 40], 'Gender': [0, 1, 1]}"
      ]
     },
     "execution_count": 99,
     "metadata": {},
     "output_type": "execute_result"
    }
   ],
   "source": [
    "a_dict = {'Name': ['a','b','c'], 'Age': [20,30,40], 'Gender' : [0,1,1]}\n",
    "a_dict"
   ]
  },
  {
   "cell_type": "code",
   "execution_count": 101,
   "id": "3d7b1d6a",
   "metadata": {},
   "outputs": [
    {
     "name": "stdout",
     "output_type": "stream",
     "text": [
      "['a', 'b', 'c']\n",
      "[20, 30, 40]\n",
      "[0, 1, 1]\n"
     ]
    }
   ],
   "source": [
    "for i in a_dict:\n",
    "    print(a_dict[i])"
   ]
  },
  {
   "cell_type": "code",
   "execution_count": 102,
   "id": "19eae9a2",
   "metadata": {},
   "outputs": [
    {
     "data": {
      "text/plain": [
       "dict_items([('Name', ['a', 'b', 'c']), ('Age', [20, 30, 40]), ('Gender', [0, 1, 1])])"
      ]
     },
     "execution_count": 102,
     "metadata": {},
     "output_type": "execute_result"
    }
   ],
   "source": [
    "a_dict.items()"
   ]
  },
  {
   "cell_type": "code",
   "execution_count": 103,
   "id": "410ae02b",
   "metadata": {},
   "outputs": [
    {
     "name": "stdout",
     "output_type": "stream",
     "text": [
      "Name a\n",
      "Age 20\n",
      "Gender 0\n"
     ]
    }
   ],
   "source": [
    "for key,values in a_dict.items():\n",
    "    print(key, values[0])"
   ]
  },
  {
   "cell_type": "code",
   "execution_count": 104,
   "id": "f6e8af1e",
   "metadata": {},
   "outputs": [
    {
     "name": "stdout",
     "output_type": "stream",
     "text": [
      "Name\n",
      "Age\n",
      "Gender\n"
     ]
    }
   ],
   "source": [
    "for key in a_dict.keys():\n",
    "    print(key)"
   ]
  },
  {
   "cell_type": "code",
   "execution_count": 105,
   "id": "ce3647c0",
   "metadata": {},
   "outputs": [
    {
     "name": "stdout",
     "output_type": "stream",
     "text": [
      "Name\n",
      "Age\n",
      "Gender\n"
     ]
    }
   ],
   "source": [
    "for key in a_dict:\n",
    "    print(key)"
   ]
  },
  {
   "cell_type": "code",
   "execution_count": 106,
   "id": "abb323b4",
   "metadata": {
    "scrolled": true
   },
   "outputs": [
    {
     "name": "stdout",
     "output_type": "stream",
     "text": [
      "['a', 'b', 'c']\n",
      "[20, 30, 40]\n",
      "[0, 1, 1]\n"
     ]
    }
   ],
   "source": [
    "for values in a_dict.values():\n",
    "    print(values)"
   ]
  },
  {
   "cell_type": "code",
   "execution_count": 109,
   "id": "05b94843",
   "metadata": {},
   "outputs": [],
   "source": [
    "import time"
   ]
  },
  {
   "cell_type": "code",
   "execution_count": 113,
   "id": "6e2b462f",
   "metadata": {},
   "outputs": [
    {
     "data": {
      "text/plain": [
       "1677597888.9138322"
      ]
     },
     "execution_count": 113,
     "metadata": {},
     "output_type": "execute_result"
    }
   ],
   "source": [
    "time.time()"
   ]
  },
  {
   "cell_type": "code",
   "execution_count": 123,
   "id": "e94b791e",
   "metadata": {},
   "outputs": [
    {
     "name": "stdout",
     "output_type": "stream",
     "text": [
      "139.38255047798157\n"
     ]
    }
   ],
   "source": [
    "start = time.time()\n",
    "a = []\n",
    "for i in range(1000000000):\n",
    "    if i%2==0:\n",
    "        a.append(i)\n",
    "        \n",
    "end = time.time()\n",
    "print(end - start)"
   ]
  },
  {
   "cell_type": "code",
   "execution_count": 124,
   "id": "f4e899ad",
   "metadata": {},
   "outputs": [],
   "source": [
    "# Comprehensions"
   ]
  },
  {
   "cell_type": "code",
   "execution_count": 125,
   "id": "f948109f",
   "metadata": {},
   "outputs": [
    {
     "name": "stdout",
     "output_type": "stream",
     "text": [
      "121.05446767807007\n"
     ]
    }
   ],
   "source": [
    "# list comprehension\n",
    "\n",
    "start = time.time()\n",
    "a = [i for i in range(1000000000) if i%2==0]\n",
    "end = time.time()\n",
    "print(end - start)"
   ]
  },
  {
   "cell_type": "code",
   "execution_count": 126,
   "id": "40b4b998",
   "metadata": {},
   "outputs": [
    {
     "data": {
      "text/plain": [
       "1.1514036049347047"
      ]
     },
     "execution_count": 126,
     "metadata": {},
     "output_type": "execute_result"
    }
   ],
   "source": [
    "139.38255047798157/121.05446767807007"
   ]
  },
  {
   "cell_type": "code",
   "execution_count": 127,
   "id": "c7de62c5",
   "metadata": {
    "scrolled": true
   },
   "outputs": [
    {
     "data": {
      "text/plain": [
       "[0,\n",
       " 1,\n",
       " 4,\n",
       " 9,\n",
       " 16,\n",
       " 25,\n",
       " 36,\n",
       " 49,\n",
       " 64,\n",
       " 81,\n",
       " 100,\n",
       " 121,\n",
       " 144,\n",
       " 169,\n",
       " 196,\n",
       " 225,\n",
       " 256,\n",
       " 289,\n",
       " 324,\n",
       " 361,\n",
       " 400,\n",
       " 441,\n",
       " 484,\n",
       " 529,\n",
       " 576,\n",
       " 625,\n",
       " 676,\n",
       " 729,\n",
       " 784,\n",
       " 841,\n",
       " 900,\n",
       " 961,\n",
       " 1024,\n",
       " 1089,\n",
       " 1156,\n",
       " 1225,\n",
       " 1296,\n",
       " 1369,\n",
       " 1444,\n",
       " 1521,\n",
       " 1600,\n",
       " 1681,\n",
       " 1764,\n",
       " 1849,\n",
       " 1936,\n",
       " 2025,\n",
       " 2116,\n",
       " 2209,\n",
       " 2304,\n",
       " 2401,\n",
       " 2500,\n",
       " 2601,\n",
       " 2704,\n",
       " 2809,\n",
       " 2916,\n",
       " 3025,\n",
       " 3136,\n",
       " 3249,\n",
       " 3364,\n",
       " 3481,\n",
       " 3600,\n",
       " 3721,\n",
       " 3844,\n",
       " 3969,\n",
       " 4096,\n",
       " 4225,\n",
       " 4356,\n",
       " 4489,\n",
       " 4624,\n",
       " 4761,\n",
       " 4900,\n",
       " 5041,\n",
       " 5184,\n",
       " 5329,\n",
       " 5476,\n",
       " 5625,\n",
       " 5776,\n",
       " 5929,\n",
       " 6084,\n",
       " 6241,\n",
       " 6400,\n",
       " 6561,\n",
       " 6724,\n",
       " 6889,\n",
       " 7056,\n",
       " 7225,\n",
       " 7396,\n",
       " 7569,\n",
       " 7744,\n",
       " 7921,\n",
       " 8100,\n",
       " 8281,\n",
       " 8464,\n",
       " 8649,\n",
       " 8836,\n",
       " 9025,\n",
       " 9216,\n",
       " 9409,\n",
       " 9604,\n",
       " 9801]"
      ]
     },
     "execution_count": 127,
     "metadata": {},
     "output_type": "execute_result"
    }
   ],
   "source": [
    "[i**2 for i in range(100)]"
   ]
  },
  {
   "cell_type": "code",
   "execution_count": 129,
   "id": "da18c5bc",
   "metadata": {},
   "outputs": [
    {
     "data": {
      "text/plain": [
       "['there', 'was', 'a', 'fox', 'in', 'the', 'forest']"
      ]
     },
     "execution_count": 129,
     "metadata": {},
     "output_type": "execute_result"
    }
   ],
   "source": [
    "a = 'there was a fox in the forest'\n",
    "b_words = []\n",
    "for i in a.split():\n",
    "    b_words.append(i)\n",
    "b_words"
   ]
  },
  {
   "cell_type": "code",
   "execution_count": 130,
   "id": "20966769",
   "metadata": {},
   "outputs": [
    {
     "data": {
      "text/plain": [
       "['there', 'was', 'a', 'fox', 'in', 'the', 'forest']"
      ]
     },
     "execution_count": 130,
     "metadata": {},
     "output_type": "execute_result"
    }
   ],
   "source": [
    "[i for i in a.split()]"
   ]
  },
  {
   "cell_type": "code",
   "execution_count": 137,
   "id": "3d8b7c92",
   "metadata": {},
   "outputs": [],
   "source": [
    "para = ['there was a forest', 'it there was a fox', 'there was a lion','we do have a tiger']"
   ]
  },
  {
   "cell_type": "code",
   "execution_count": 138,
   "id": "95652f39",
   "metadata": {},
   "outputs": [
    {
     "data": {
      "text/plain": [
       "['there',\n",
       " 'was',\n",
       " 'a',\n",
       " 'forest',\n",
       " 'it',\n",
       " 'there',\n",
       " 'was',\n",
       " 'a',\n",
       " 'fox',\n",
       " 'there',\n",
       " 'was',\n",
       " 'a',\n",
       " 'lion',\n",
       " 'we',\n",
       " 'do',\n",
       " 'have',\n",
       " 'a',\n",
       " 'tiger']"
      ]
     },
     "execution_count": 138,
     "metadata": {},
     "output_type": "execute_result"
    }
   ],
   "source": [
    "words = []\n",
    "for sentence in para:\n",
    "    for word in sentence.split():\n",
    "        words.append(word)\n",
    "words"
   ]
  },
  {
   "cell_type": "code",
   "execution_count": 141,
   "id": "214b0b02",
   "metadata": {},
   "outputs": [
    {
     "data": {
      "text/plain": [
       "['a', 'it', 'a', 'a', 'a']"
      ]
     },
     "execution_count": 141,
     "metadata": {},
     "output_type": "execute_result"
    }
   ],
   "source": [
    "vowels = ['a','e','i','o','u']\n",
    "list_vowel_words = []\n",
    "for sentence in para:\n",
    "    for word in sentence.split():\n",
    "        if word[0].lower() in vowels:\n",
    "            list_vowel_words.append(word)\n",
    "list_vowel_words"
   ]
  },
  {
   "cell_type": "code",
   "execution_count": 140,
   "id": "01e0f535",
   "metadata": {},
   "outputs": [
    {
     "data": {
      "text/plain": [
       "['a', 'it', 'a', 'a', 'a']"
      ]
     },
     "execution_count": 140,
     "metadata": {},
     "output_type": "execute_result"
    }
   ],
   "source": [
    "[word for sentence in para for word  in sentence.split() if word[0].lower() in vowels]"
   ]
  },
  {
   "cell_type": "code",
   "execution_count": 135,
   "id": "28c7bd63",
   "metadata": {
    "collapsed": true
   },
   "outputs": [
    {
     "data": {
      "text/plain": [
       "['there',\n",
       " 'was',\n",
       " 'a',\n",
       " 'forest',\n",
       " 'there',\n",
       " 'was',\n",
       " 'a',\n",
       " 'fox',\n",
       " 'there',\n",
       " 'was',\n",
       " 'a',\n",
       " 'lion',\n",
       " 'we',\n",
       " 'do',\n",
       " 'have',\n",
       " 'a',\n",
       " 'tiger']"
      ]
     },
     "execution_count": 135,
     "metadata": {},
     "output_type": "execute_result"
    }
   ],
   "source": [
    "[word for sentence in para for word in sentence.split()]"
   ]
  },
  {
   "cell_type": "code",
   "execution_count": 142,
   "id": "81284dc7",
   "metadata": {},
   "outputs": [],
   "source": [
    "# dict comprehension"
   ]
  },
  {
   "cell_type": "code",
   "execution_count": 143,
   "id": "31b46711",
   "metadata": {},
   "outputs": [
    {
     "data": {
      "text/plain": [
       "{0: 0, 1: 1, 2: 4, 3: 9, 4: 16, 5: 25, 6: 36, 7: 49, 8: 64, 9: 81}"
      ]
     },
     "execution_count": 143,
     "metadata": {},
     "output_type": "execute_result"
    }
   ],
   "source": [
    "a_dict = {}\n",
    "for i in range(10):\n",
    "    a_dict[i] = i**2\n",
    "a_dict"
   ]
  },
  {
   "cell_type": "code",
   "execution_count": 144,
   "id": "3eec3f30",
   "metadata": {},
   "outputs": [
    {
     "data": {
      "text/plain": [
       "{0: 0, 1: 1, 2: 4, 3: 9, 4: 16, 5: 25, 6: 36, 7: 49, 8: 64, 9: 81}"
      ]
     },
     "execution_count": 144,
     "metadata": {},
     "output_type": "execute_result"
    }
   ],
   "source": [
    "{i: i**2 for i in range(10)}"
   ]
  },
  {
   "cell_type": "code",
   "execution_count": 146,
   "id": "484a50ca",
   "metadata": {
    "scrolled": true
   },
   "outputs": [],
   "source": [
    "a = {i: i**3 for i in range(20) if i%2==0}"
   ]
  },
  {
   "cell_type": "code",
   "execution_count": 147,
   "id": "bb0b54ef",
   "metadata": {
    "scrolled": true
   },
   "outputs": [
    {
     "data": {
      "text/plain": [
       "{0: 0,\n",
       " 2: 8,\n",
       " 4: 64,\n",
       " 6: 216,\n",
       " 8: 512,\n",
       " 10: 1000,\n",
       " 12: 1728,\n",
       " 14: 2744,\n",
       " 16: 4096,\n",
       " 18: 5832}"
      ]
     },
     "execution_count": 147,
     "metadata": {},
     "output_type": "execute_result"
    }
   ],
   "source": [
    "a"
   ]
  },
  {
   "cell_type": "code",
   "execution_count": 148,
   "id": "3259e471",
   "metadata": {},
   "outputs": [],
   "source": [
    "a = [22,13,15,20,17,130,23,14,70]"
   ]
  },
  {
   "cell_type": "code",
   "execution_count": 149,
   "id": "ccdaa0be",
   "metadata": {},
   "outputs": [
    {
     "data": {
      "text/plain": [
       "[32, 23, 25, 30, 27, 133, 33, 24, 73]"
      ]
     },
     "execution_count": 149,
     "metadata": {},
     "output_type": "execute_result"
    }
   ],
   "source": [
    "b_num = []\n",
    "\n",
    "for i in a:\n",
    "    if i>40:\n",
    "        b_num.append(i+3)\n",
    "    else:\n",
    "        b_num.append(i+10)\n",
    "b_num"
   ]
  },
  {
   "cell_type": "code",
   "execution_count": 151,
   "id": "5d45126d",
   "metadata": {},
   "outputs": [
    {
     "data": {
      "text/plain": [
       "[32, 23, 25, 30, 27, 133, 33, 24, 73]"
      ]
     },
     "execution_count": 151,
     "metadata": {},
     "output_type": "execute_result"
    }
   ],
   "source": [
    "[i+3 if i>40 else i+10 for i in a]"
   ]
  },
  {
   "cell_type": "code",
   "execution_count": null,
   "id": "3f1d4451",
   "metadata": {},
   "outputs": [],
   "source": []
  }
 ],
 "metadata": {
  "kernelspec": {
   "display_name": "Python 3",
   "language": "python",
   "name": "python3"
  },
  "language_info": {
   "codemirror_mode": {
    "name": "ipython",
    "version": 3
   },
   "file_extension": ".py",
   "mimetype": "text/x-python",
   "name": "python",
   "nbconvert_exporter": "python",
   "pygments_lexer": "ipython3",
   "version": "3.9.13"
  }
 },
 "nbformat": 4,
 "nbformat_minor": 5
}
