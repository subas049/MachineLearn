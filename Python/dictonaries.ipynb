{
 "cells": [
  {
   "cell_type": "code",
   "execution_count": null,
   "id": "c2c07b5a",
   "metadata": {},
   "outputs": [],
   "source": [
    "#String, Integer, float, boolean\n",
    "# List [] , tuples ()"
   ]
  },
  {
   "cell_type": "code",
   "execution_count": null,
   "id": "849c45af",
   "metadata": {},
   "outputs": [],
   "source": [
    "word: definition"
   ]
  },
  {
   "cell_type": "code",
   "execution_count": null,
   "id": "181bb9fc",
   "metadata": {},
   "outputs": [],
   "source": [
    "key: value"
   ]
  },
  {
   "cell_type": "code",
   "execution_count": null,
   "id": "1c1fd959",
   "metadata": {},
   "outputs": [],
   "source": [
    "a_dict = { key1 : value1, key2: value2}"
   ]
  },
  {
   "cell_type": "code",
   "execution_count": 24,
   "id": "3b5a0de3",
   "metadata": {},
   "outputs": [
    {
     "data": {
      "text/plain": [
       "{'Name': 'Ramakrishna',\n",
       " 'Age': 30,\n",
       " 40: '432413',\n",
       " 'Gender': 'Male',\n",
       " 'salary': 150000}"
      ]
     },
     "execution_count": 24,
     "metadata": {},
     "output_type": "execute_result"
    }
   ],
   "source": [
    "a_dict = {'Name': 'Ramakrishna', \n",
    "          'Age': 30, \n",
    "          40: '432413',\n",
    "          'Gender' : 'Male', \n",
    "          'salary': 150000}\n",
    "a_dict"
   ]
  },
  {
   "cell_type": "code",
   "execution_count": 2,
   "id": "d5c0734a",
   "metadata": {},
   "outputs": [
    {
     "name": "stdout",
     "output_type": "stream",
     "text": [
      "<class 'dict'>\n"
     ]
    }
   ],
   "source": [
    "print(type(a_dict))"
   ]
  },
  {
   "cell_type": "code",
   "execution_count": 3,
   "id": "4c703a57",
   "metadata": {},
   "outputs": [
    {
     "data": {
      "text/plain": [
       "'Ramakrishna'"
      ]
     },
     "execution_count": 3,
     "metadata": {},
     "output_type": "execute_result"
    }
   ],
   "source": [
    "a_dict['Name']\n",
    "# a_dict[key]"
   ]
  },
  {
   "cell_type": "code",
   "execution_count": 4,
   "id": "8aae1cb5",
   "metadata": {},
   "outputs": [
    {
     "data": {
      "text/plain": [
       "'Male'"
      ]
     },
     "execution_count": 4,
     "metadata": {},
     "output_type": "execute_result"
    }
   ],
   "source": [
    "a_dict['Gender']"
   ]
  },
  {
   "cell_type": "code",
   "execution_count": 5,
   "id": "c03f6737",
   "metadata": {},
   "outputs": [
    {
     "ename": "KeyError",
     "evalue": "'gender'",
     "output_type": "error",
     "traceback": [
      "\u001b[1;31m---------------------------------------------------------------------------\u001b[0m",
      "\u001b[1;31mKeyError\u001b[0m                                  Traceback (most recent call last)",
      "\u001b[1;32m~\\AppData\\Local\\Temp\\ipykernel_11524\\390234513.py\u001b[0m in \u001b[0;36m<module>\u001b[1;34m\u001b[0m\n\u001b[1;32m----> 1\u001b[1;33m \u001b[0ma_dict\u001b[0m\u001b[1;33m[\u001b[0m\u001b[1;34m'gender'\u001b[0m\u001b[1;33m]\u001b[0m\u001b[1;33m\u001b[0m\u001b[1;33m\u001b[0m\u001b[0m\n\u001b[0m",
      "\u001b[1;31mKeyError\u001b[0m: 'gender'"
     ]
    }
   ],
   "source": [
    "a_dict['gender']"
   ]
  },
  {
   "cell_type": "code",
   "execution_count": 12,
   "id": "47f423c0",
   "metadata": {},
   "outputs": [
    {
     "data": {
      "text/plain": [
       "{'Name': 'Ramakrishna',\n",
       " 'Age': 30,\n",
       " 'Gender': 'Male',\n",
       " 'salary': 150000,\n",
       " 'city': 'Pune'}"
      ]
     },
     "execution_count": 12,
     "metadata": {},
     "output_type": "execute_result"
    }
   ],
   "source": [
    "a_dict['city'] = 'Pune'\n",
    "a_dict"
   ]
  },
  {
   "cell_type": "code",
   "execution_count": 7,
   "id": "f3a2bef1",
   "metadata": {},
   "outputs": [],
   "source": [
    "del a_dict['Gender']"
   ]
  },
  {
   "cell_type": "code",
   "execution_count": 8,
   "id": "ec5e6032",
   "metadata": {},
   "outputs": [
    {
     "data": {
      "text/plain": [
       "{'Name': 'Ramakrishna', 'Age': 30, 'salary': 150000, 'city': 'Pune'}"
      ]
     },
     "execution_count": 8,
     "metadata": {},
     "output_type": "execute_result"
    }
   ],
   "source": [
    "a_dict"
   ]
  },
  {
   "cell_type": "code",
   "execution_count": 9,
   "id": "399b59b4",
   "metadata": {},
   "outputs": [],
   "source": [
    "del a_dict"
   ]
  },
  {
   "cell_type": "code",
   "execution_count": 13,
   "id": "8ea7fa94",
   "metadata": {},
   "outputs": [
    {
     "data": {
      "text/plain": [
       "{'Name': 'Ramakrishna',\n",
       " 'Age': 30,\n",
       " 'Gender': 'Male',\n",
       " 'salary': 150000,\n",
       " 'city': 'Pune'}"
      ]
     },
     "execution_count": 13,
     "metadata": {},
     "output_type": "execute_result"
    }
   ],
   "source": [
    "a_dict"
   ]
  },
  {
   "cell_type": "code",
   "execution_count": 15,
   "id": "b9b6c47c",
   "metadata": {},
   "outputs": [
    {
     "data": {
      "text/plain": [
       "{'1': 'a', 2: 'b', 3: 'c'}"
      ]
     },
     "execution_count": 15,
     "metadata": {},
     "output_type": "execute_result"
    }
   ],
   "source": [
    "b_dict = {'1': 'a',\n",
    "          2: 'b',\n",
    "          3: 'c'}\n",
    "b_dict"
   ]
  },
  {
   "cell_type": "code",
   "execution_count": 25,
   "id": "dfa42b6a",
   "metadata": {},
   "outputs": [
    {
     "data": {
      "text/plain": [
       "dict_keys(['Name', 'Age', 40, 'Gender', 'salary'])"
      ]
     },
     "execution_count": 25,
     "metadata": {},
     "output_type": "execute_result"
    }
   ],
   "source": [
    "a_dict.keys() # Return keys "
   ]
  },
  {
   "cell_type": "code",
   "execution_count": 19,
   "id": "40a9f8c6",
   "metadata": {},
   "outputs": [
    {
     "data": {
      "text/plain": [
       "dict_values(['Ramakrishna', 30, 'Male', 150000, 'Pune'])"
      ]
     },
     "execution_count": 19,
     "metadata": {},
     "output_type": "execute_result"
    }
   ],
   "source": [
    "a_dict.values() # returns elements or objects"
   ]
  },
  {
   "cell_type": "code",
   "execution_count": 22,
   "id": "3be3916b",
   "metadata": {
    "scrolled": false
   },
   "outputs": [
    {
     "data": {
      "text/plain": [
       "['Ramakrishna', 30, 'Male', 150000, 'Pune']"
      ]
     },
     "execution_count": 22,
     "metadata": {},
     "output_type": "execute_result"
    }
   ],
   "source": [
    "list(a_dict.values())"
   ]
  },
  {
   "cell_type": "code",
   "execution_count": 26,
   "id": "0ca1b669",
   "metadata": {},
   "outputs": [
    {
     "data": {
      "text/plain": [
       "{'Name': ['Rama', 'Gnana', 'Amirta'], 'Age': [24, 25, 26]}"
      ]
     },
     "execution_count": 26,
     "metadata": {},
     "output_type": "execute_result"
    }
   ],
   "source": [
    "c_dict = {'Name': ['Rama','Gnana','Amirta'],\n",
    "         'Age':[24,25,26]}\n",
    "c_dict"
   ]
  },
  {
   "cell_type": "code",
   "execution_count": 28,
   "id": "2ce97fc9",
   "metadata": {},
   "outputs": [
    {
     "data": {
      "text/plain": [
       "[24, 25, 26]"
      ]
     },
     "execution_count": 28,
     "metadata": {},
     "output_type": "execute_result"
    }
   ],
   "source": [
    "c_dict['Age']"
   ]
  },
  {
   "cell_type": "code",
   "execution_count": 29,
   "id": "f5ea449d",
   "metadata": {
    "collapsed": true
   },
   "outputs": [
    {
     "ename": "TypeError",
     "evalue": "unhashable type: 'list'",
     "output_type": "error",
     "traceback": [
      "\u001b[1;31m---------------------------------------------------------------------------\u001b[0m",
      "\u001b[1;31mTypeError\u001b[0m                                 Traceback (most recent call last)",
      "\u001b[1;32m~\\AppData\\Local\\Temp\\ipykernel_11524\\1862261397.py\u001b[0m in \u001b[0;36m<module>\u001b[1;34m\u001b[0m\n\u001b[1;32m----> 1\u001b[1;33m \u001b[0md_dict\u001b[0m \u001b[1;33m=\u001b[0m \u001b[1;33m{\u001b[0m\u001b[1;33m[\u001b[0m\u001b[1;36m1\u001b[0m\u001b[1;33m,\u001b[0m\u001b[1;36m2\u001b[0m\u001b[1;33m,\u001b[0m\u001b[1;36m3\u001b[0m\u001b[1;33m]\u001b[0m\u001b[1;33m:\u001b[0m \u001b[1;34m'a'\u001b[0m\u001b[1;33m}\u001b[0m\u001b[1;33m\u001b[0m\u001b[1;33m\u001b[0m\u001b[0m\n\u001b[0m\u001b[0;32m      2\u001b[0m \u001b[0md_dict\u001b[0m\u001b[1;33m\u001b[0m\u001b[1;33m\u001b[0m\u001b[0m\n",
      "\u001b[1;31mTypeError\u001b[0m: unhashable type: 'list'"
     ]
    }
   ],
   "source": [
    "d_dict = {[1,2,3]: 'a'}\n",
    "d_dict"
   ]
  },
  {
   "cell_type": "code",
   "execution_count": 31,
   "id": "a723c997",
   "metadata": {},
   "outputs": [
    {
     "data": {
      "text/plain": [
       "dict_items([('Name', 'Ramakrishna'), ('Age', 30), (40, '432413'), ('Gender', 'Male'), ('salary', 150000)])"
      ]
     },
     "execution_count": 31,
     "metadata": {},
     "output_type": "execute_result"
    }
   ],
   "source": [
    "a_dict.items() # returns list of tuples"
   ]
  },
  {
   "cell_type": "code",
   "execution_count": 32,
   "id": "381081a0",
   "metadata": {},
   "outputs": [
    {
     "data": {
      "text/plain": [
       "[('Name', 'Ramakrishna'),\n",
       " ('Age', 30),\n",
       " (40, '432413'),\n",
       " ('Gender', 'Male'),\n",
       " ('salary', 150000)]"
      ]
     },
     "execution_count": 32,
     "metadata": {},
     "output_type": "execute_result"
    }
   ],
   "source": [
    "list(a_dict.items())"
   ]
  },
  {
   "cell_type": "code",
   "execution_count": 33,
   "id": "4b54c435",
   "metadata": {},
   "outputs": [
    {
     "data": {
      "text/plain": [
       "'Ramakrishna'"
      ]
     },
     "execution_count": 33,
     "metadata": {},
     "output_type": "execute_result"
    }
   ],
   "source": [
    "a_dict['Name']"
   ]
  },
  {
   "cell_type": "code",
   "execution_count": 34,
   "id": "06caa684",
   "metadata": {},
   "outputs": [
    {
     "ename": "KeyError",
     "evalue": "'Bank'",
     "output_type": "error",
     "traceback": [
      "\u001b[1;31m---------------------------------------------------------------------------\u001b[0m",
      "\u001b[1;31mKeyError\u001b[0m                                  Traceback (most recent call last)",
      "\u001b[1;32m~\\AppData\\Local\\Temp\\ipykernel_11524\\1388633702.py\u001b[0m in \u001b[0;36m<module>\u001b[1;34m\u001b[0m\n\u001b[1;32m----> 1\u001b[1;33m \u001b[0ma_dict\u001b[0m\u001b[1;33m[\u001b[0m\u001b[1;34m'Bank'\u001b[0m\u001b[1;33m]\u001b[0m\u001b[1;33m\u001b[0m\u001b[1;33m\u001b[0m\u001b[0m\n\u001b[0m",
      "\u001b[1;31mKeyError\u001b[0m: 'Bank'"
     ]
    }
   ],
   "source": [
    "a_dict['Bank']"
   ]
  },
  {
   "cell_type": "code",
   "execution_count": 38,
   "id": "83d4944b",
   "metadata": {},
   "outputs": [
    {
     "data": {
      "text/plain": [
       "'dsdfdsfs'"
      ]
     },
     "execution_count": 38,
     "metadata": {},
     "output_type": "execute_result"
    }
   ],
   "source": [
    "a_dict.get('Bank', 'dsdfdsfs')"
   ]
  },
  {
   "cell_type": "code",
   "execution_count": 39,
   "id": "7bd8a286",
   "metadata": {},
   "outputs": [
    {
     "data": {
      "text/plain": [
       "'Ramakrishna'"
      ]
     },
     "execution_count": 39,
     "metadata": {},
     "output_type": "execute_result"
    }
   ],
   "source": [
    "a_dict.get('Name', 'dsdfdsfs')"
   ]
  },
  {
   "cell_type": "code",
   "execution_count": 44,
   "id": "2a2bc2fd",
   "metadata": {},
   "outputs": [
    {
     "ename": "SyntaxError",
     "evalue": "expression cannot contain assignment, perhaps you meant \"==\"? (3195622293.py, line 1)",
     "output_type": "error",
     "traceback": [
      "\u001b[1;36m  File \u001b[1;32m\"C:\\Users\\Kunal\\AppData\\Local\\Temp\\ipykernel_11524\\3195622293.py\"\u001b[1;36m, line \u001b[1;32m1\u001b[0m\n\u001b[1;33m    d_dict = dict(1 = [10,20,30], 2 = ['aas','fsd'])\u001b[0m\n\u001b[1;37m                  ^\u001b[0m\n\u001b[1;31mSyntaxError\u001b[0m\u001b[1;31m:\u001b[0m expression cannot contain assignment, perhaps you meant \"==\"?\n"
     ]
    }
   ],
   "source": [
    "d_dict = dict(1 = [10,20,30],\n",
    "              2 = ['aas','fsd']) ---> not allowed key as integers\n"
   ]
  },
  {
   "cell_type": "code",
   "execution_count": 50,
   "id": "40126a1d",
   "metadata": {},
   "outputs": [
    {
     "data": {
      "text/plain": [
       "{'Name': [10, 20, 30], 'Country': ['aas', 'fsd']}"
      ]
     },
     "execution_count": 50,
     "metadata": {},
     "output_type": "execute_result"
    }
   ],
   "source": [
    "d_dict = dict(Name = [10,20,30], Country = ['aas','fsd'])\n",
    "d_dict"
   ]
  },
  {
   "cell_type": "code",
   "execution_count": 45,
   "id": "87444e3c",
   "metadata": {},
   "outputs": [
    {
     "data": {
      "text/plain": [
       "{'Name': 'Ramakrishna',\n",
       " 'Age': 30,\n",
       " 40: '432413',\n",
       " 'Gender': 'Male',\n",
       " 'salary': 150000}"
      ]
     },
     "execution_count": 45,
     "metadata": {},
     "output_type": "execute_result"
    }
   ],
   "source": [
    "a_dict"
   ]
  },
  {
   "cell_type": "code",
   "execution_count": 46,
   "id": "3079df53",
   "metadata": {},
   "outputs": [],
   "source": [
    "b_dict = {'Bank': 'HDFC', 'PAN': 'EEEEC4343G', 'IFSC':232132321}"
   ]
  },
  {
   "cell_type": "code",
   "execution_count": 47,
   "id": "9e6fd105",
   "metadata": {},
   "outputs": [],
   "source": [
    "a_dict.update(b_dict) # Updating first dict with a second dict."
   ]
  },
  {
   "cell_type": "code",
   "execution_count": 48,
   "id": "07d92e72",
   "metadata": {},
   "outputs": [
    {
     "data": {
      "text/plain": [
       "{'Name': 'Ramakrishna',\n",
       " 'Age': 30,\n",
       " 40: '432413',\n",
       " 'Gender': 'Male',\n",
       " 'salary': 150000,\n",
       " 'Bank': 'HDFC',\n",
       " 'PAN': 'EEEEC4343G',\n",
       " 'IFSC': 232132321}"
      ]
     },
     "execution_count": 48,
     "metadata": {},
     "output_type": "execute_result"
    }
   ],
   "source": [
    "a_dict"
   ]
  },
  {
   "cell_type": "code",
   "execution_count": 51,
   "id": "9e0025bb",
   "metadata": {},
   "outputs": [
    {
     "data": {
      "text/plain": [
       "8"
      ]
     },
     "execution_count": 51,
     "metadata": {},
     "output_type": "execute_result"
    }
   ],
   "source": [
    "len(a_dict)"
   ]
  },
  {
   "cell_type": "code",
   "execution_count": 56,
   "id": "b4c1f956",
   "metadata": {},
   "outputs": [
    {
     "data": {
      "text/plain": [
       "{'Name': 'Manni', 2: '20'}"
      ]
     },
     "execution_count": 56,
     "metadata": {},
     "output_type": "execute_result"
    }
   ],
   "source": [
    "dict1 = {'Name': 'Rama',\n",
    "         2 : '20', \n",
    "         'Name': 'Manni'}\n",
    "dict1 # Duplicates keys are not allowed? "
   ]
  },
  {
   "cell_type": "code",
   "execution_count": 61,
   "id": "3697e827",
   "metadata": {},
   "outputs": [],
   "source": [
    "del dict1"
   ]
  },
  {
   "cell_type": "code",
   "execution_count": 62,
   "id": "8d9e4073",
   "metadata": {
    "scrolled": true
   },
   "outputs": [
    {
     "ename": "NameError",
     "evalue": "name 'dict1' is not defined",
     "output_type": "error",
     "traceback": [
      "\u001b[1;31m---------------------------------------------------------------------------\u001b[0m",
      "\u001b[1;31mNameError\u001b[0m                                 Traceback (most recent call last)",
      "\u001b[1;32m~\\AppData\\Local\\Temp\\ipykernel_11524\\2411076200.py\u001b[0m in \u001b[0;36m<module>\u001b[1;34m\u001b[0m\n\u001b[1;32m----> 1\u001b[1;33m \u001b[0mlen\u001b[0m\u001b[1;33m(\u001b[0m\u001b[0mdict1\u001b[0m\u001b[1;33m)\u001b[0m\u001b[1;33m\u001b[0m\u001b[1;33m\u001b[0m\u001b[0m\n\u001b[0m",
      "\u001b[1;31mNameError\u001b[0m: name 'dict1' is not defined"
     ]
    }
   ],
   "source": [
    "len(dict1)"
   ]
  },
  {
   "cell_type": "code",
   "execution_count": 57,
   "id": "2949fa9a",
   "metadata": {},
   "outputs": [
    {
     "data": {
      "text/plain": [
       "2"
      ]
     },
     "execution_count": 57,
     "metadata": {},
     "output_type": "execute_result"
    }
   ],
   "source": [
    "len(dict1)"
   ]
  },
  {
   "cell_type": "code",
   "execution_count": 58,
   "id": "d52f17b2",
   "metadata": {},
   "outputs": [],
   "source": [
    "dict1.clear()"
   ]
  },
  {
   "cell_type": "code",
   "execution_count": 59,
   "id": "e1917bac",
   "metadata": {},
   "outputs": [
    {
     "data": {
      "text/plain": [
       "{}"
      ]
     },
     "execution_count": 59,
     "metadata": {},
     "output_type": "execute_result"
    }
   ],
   "source": [
    "dict1"
   ]
  },
  {
   "cell_type": "code",
   "execution_count": 60,
   "id": "fbcdb45f",
   "metadata": {},
   "outputs": [
    {
     "data": {
      "text/plain": [
       "0"
      ]
     },
     "execution_count": 60,
     "metadata": {},
     "output_type": "execute_result"
    }
   ],
   "source": [
    "len(dict1)"
   ]
  },
  {
   "cell_type": "markdown",
   "id": "775cf16c",
   "metadata": {},
   "source": [
    "## Sets"
   ]
  },
  {
   "cell_type": "code",
   "execution_count": 64,
   "id": "1d6350ee",
   "metadata": {},
   "outputs": [],
   "source": [
    "# Collection of elements/values -- unique"
   ]
  },
  {
   "cell_type": "code",
   "execution_count": 67,
   "id": "538de216",
   "metadata": {},
   "outputs": [
    {
     "data": {
      "text/plain": [
       "{1, 2, 3, 40, 50, 60, 70, 80}"
      ]
     },
     "execution_count": 67,
     "metadata": {},
     "output_type": "execute_result"
    }
   ],
   "source": [
    "a_set = {1,2,3,40,40, 50, 50,50,60,70,80}\n",
    "a_set"
   ]
  },
  {
   "cell_type": "code",
   "execution_count": 66,
   "id": "32d3aaf3",
   "metadata": {},
   "outputs": [
    {
     "data": {
      "text/plain": [
       "set"
      ]
     },
     "execution_count": 66,
     "metadata": {},
     "output_type": "execute_result"
    }
   ],
   "source": [
    "type(a_set)"
   ]
  },
  {
   "cell_type": "code",
   "execution_count": 69,
   "id": "49e7fa33",
   "metadata": {},
   "outputs": [
    {
     "data": {
      "text/plain": [
       "13"
      ]
     },
     "execution_count": 69,
     "metadata": {},
     "output_type": "execute_result"
    }
   ],
   "source": [
    "a_list = [10,20,20,30,40,40,40,40,50,60,70,70,80]\n",
    "len(a_list)"
   ]
  },
  {
   "cell_type": "code",
   "execution_count": 71,
   "id": "677e7dd4",
   "metadata": {},
   "outputs": [
    {
     "data": {
      "text/plain": [
       "8"
      ]
     },
     "execution_count": 71,
     "metadata": {},
     "output_type": "execute_result"
    }
   ],
   "source": [
    "len(set(a_list)) # finding a unique element in a list/object .. it is useful."
   ]
  },
  {
   "cell_type": "code",
   "execution_count": 72,
   "id": "1990feef",
   "metadata": {},
   "outputs": [],
   "source": [
    "b_set = {40,50,60,100,120}"
   ]
  },
  {
   "cell_type": "code",
   "execution_count": 74,
   "id": "145f0e3a",
   "metadata": {},
   "outputs": [
    {
     "data": {
      "text/plain": [
       "({1, 2, 3, 40, 50, 60, 70, 80}, {40, 50, 60, 100, 120})"
      ]
     },
     "execution_count": 74,
     "metadata": {},
     "output_type": "execute_result"
    }
   ],
   "source": [
    "a_set, b_set"
   ]
  },
  {
   "cell_type": "code",
   "execution_count": 75,
   "id": "15c9f756",
   "metadata": {},
   "outputs": [
    {
     "data": {
      "text/plain": [
       "{40, 50, 60}"
      ]
     },
     "execution_count": 75,
     "metadata": {},
     "output_type": "execute_result"
    }
   ],
   "source": [
    "a_set.intersection(b_set) # common elements from both the sets."
   ]
  },
  {
   "cell_type": "code",
   "execution_count": 76,
   "id": "948f12cd",
   "metadata": {},
   "outputs": [
    {
     "data": {
      "text/plain": [
       "{1, 2, 3, 40, 50, 60, 70, 80, 100, 120}"
      ]
     },
     "execution_count": 76,
     "metadata": {},
     "output_type": "execute_result"
    }
   ],
   "source": [
    "a_set.union(b_set) # Unique elements from both the sets"
   ]
  },
  {
   "cell_type": "code",
   "execution_count": 77,
   "id": "e991f3a1",
   "metadata": {},
   "outputs": [
    {
     "data": {
      "text/plain": [
       "{1, 2, 3, 70, 80}"
      ]
     },
     "execution_count": 77,
     "metadata": {},
     "output_type": "execute_result"
    }
   ],
   "source": [
    "a_set.difference(b_set) # return elements of set1 which are not present in set2"
   ]
  },
  {
   "cell_type": "code",
   "execution_count": 78,
   "id": "f65be605",
   "metadata": {},
   "outputs": [
    {
     "data": {
      "text/plain": [
       "{100, 120}"
      ]
     },
     "execution_count": 78,
     "metadata": {},
     "output_type": "execute_result"
    }
   ],
   "source": [
    "b_set.difference(a_set)"
   ]
  },
  {
   "cell_type": "code",
   "execution_count": 79,
   "id": "8ff408dd",
   "metadata": {
    "scrolled": true
   },
   "outputs": [
    {
     "data": {
      "text/plain": [
       "{1, 2, 3, 70, 80, 100, 120}"
      ]
     },
     "execution_count": 79,
     "metadata": {},
     "output_type": "execute_result"
    }
   ],
   "source": [
    "a_set.symmetric_difference(b_set) # return uncommon elements from both the sets."
   ]
  },
  {
   "cell_type": "code",
   "execution_count": null,
   "id": "52657f03",
   "metadata": {},
   "outputs": [],
   "source": [
    "# Conditions\n",
    "# If-else "
   ]
  },
  {
   "cell_type": "code",
   "execution_count": 81,
   "id": "b95ddb7b",
   "metadata": {},
   "outputs": [
    {
     "name": "stdout",
     "output_type": "stream",
     "text": [
      "2\n"
     ]
    }
   ],
   "source": [
    "x = 2\n",
    "print(x)"
   ]
  },
  {
   "cell_type": "code",
   "execution_count": 85,
   "id": "d3318ba2",
   "metadata": {
    "scrolled": true
   },
   "outputs": [
    {
     "data": {
      "text/plain": [
       "True"
      ]
     },
     "execution_count": 85,
     "metadata": {},
     "output_type": "execute_result"
    }
   ],
   "source": [
    "x == 2"
   ]
  },
  {
   "cell_type": "code",
   "execution_count": null,
   "id": "5162d003",
   "metadata": {},
   "outputs": [],
   "source": [
    "if condition:\n",
    "    print('Ramakrishna')\n",
    "    printerefdsdsfds\n",
    "    dsfsdfds\n",
    "    sdfdsfsd\n",
    "    sfsdfsdf\n",
    "    sdffsd\n",
    "dasdsddsa    \n",
    "    "
   ]
  },
  {
   "cell_type": "code",
   "execution_count": 92,
   "id": "66bcca55",
   "metadata": {},
   "outputs": [
    {
     "name": "stdout",
     "output_type": "stream",
     "text": [
      "X has a different value\n"
     ]
    }
   ],
   "source": [
    "if x == 3:\n",
    "    print('value of x is 2')\n",
    "    print('inside the IF condition')\n",
    "print('X has a different value')"
   ]
  },
  {
   "cell_type": "code",
   "execution_count": 93,
   "id": "e6667230",
   "metadata": {},
   "outputs": [
    {
     "name": "stdout",
     "output_type": "stream",
     "text": [
      "value of x is not 4\n"
     ]
    }
   ],
   "source": [
    "if x==4:\n",
    "    print('value of x is 4')\n",
    "else:\n",
    "    print('value of x is not 4')"
   ]
  },
  {
   "cell_type": "code",
   "execution_count": 95,
   "id": "930aa656",
   "metadata": {},
   "outputs": [
    {
     "name": "stdout",
     "output_type": "stream",
     "text": [
      "value of x is >6\n"
     ]
    }
   ],
   "source": [
    "x = 15\n",
    "\n",
    "if x==4:\n",
    "    print('value of x is 4')\n",
    "elif x==5:\n",
    "    print('value of x is 5')\n",
    "elif x>=6:\n",
    "    print('value of x is >6')\n",
    "else:\n",
    "    print('value of x is <4 ')"
   ]
  },
  {
   "cell_type": "code",
   "execution_count": null,
   "id": "7b2999cf",
   "metadata": {},
   "outputs": [],
   "source": []
  },
  {
   "cell_type": "code",
   "execution_count": null,
   "id": "8d0c297d",
   "metadata": {},
   "outputs": [],
   "source": []
  },
  {
   "cell_type": "code",
   "execution_count": 90,
   "id": "ce9a2408",
   "metadata": {},
   "outputs": [
    {
     "name": "stdout",
     "output_type": "stream",
     "text": [
      "X has a different value\n"
     ]
    }
   ],
   "source": [
    "print('X has a different value')"
   ]
  },
  {
   "cell_type": "code",
   "execution_count": null,
   "id": "7eb97c30",
   "metadata": {},
   "outputs": [],
   "source": []
  },
  {
   "cell_type": "code",
   "execution_count": null,
   "id": "4a7deb8b",
   "metadata": {},
   "outputs": [],
   "source": []
  }
 ],
 "metadata": {
  "kernelspec": {
   "display_name": "Python 3 (ipykernel)",
   "language": "python",
   "name": "python3"
  },
  "language_info": {
   "codemirror_mode": {
    "name": "ipython",
    "version": 3
   },
   "file_extension": ".py",
   "mimetype": "text/x-python",
   "name": "python",
   "nbconvert_exporter": "python",
   "pygments_lexer": "ipython3",
   "version": "3.9.13"
  }
 },
 "nbformat": 4,
 "nbformat_minor": 5
}
